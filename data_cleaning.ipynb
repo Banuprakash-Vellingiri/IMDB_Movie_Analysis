{
 "cells": [
  {
   "cell_type": "markdown",
   "metadata": {},
   "source": [
    "IMDB MOVIE ANALYSIS "
   ]
  },
  {
   "cell_type": "markdown",
   "metadata": {},
   "source": [
    "Data Preprocessing"
   ]
  },
  {
   "cell_type": "code",
   "execution_count": null,
   "metadata": {},
   "outputs": [],
   "source": [
    "#import necessary libraries\n",
    "import pandas as pd"
   ]
  },
  {
   "cell_type": "code",
   "execution_count": null,
   "metadata": {},
   "outputs": [],
   "source": [
    "#Loading the available dataset into a Dataframe\n",
    "df=pd.read_csv(\"imdb_dataset.csv\")\n",
    "pd.set_option(\"display.max_columns\",None)\n",
    "df.head(3)"
   ]
  },
  {
   "cell_type": "code",
   "execution_count": null,
   "metadata": {},
   "outputs": [],
   "source": [
    "#Checking for shape of the data\n",
    "df.shape"
   ]
  },
  {
   "cell_type": "code",
   "execution_count": null,
   "metadata": {},
   "outputs": [],
   "source": [
    "#Checking for the duplicates\n",
    "df.duplicated().sum()"
   ]
  },
  {
   "cell_type": "code",
   "execution_count": null,
   "metadata": {},
   "outputs": [],
   "source": [
    "#Dropping the duplicated rows\n",
    "df.drop_duplicates(inplace=True)\n",
    "print(df.duplicated().sum())"
   ]
  },
  {
   "cell_type": "code",
   "execution_count": null,
   "metadata": {},
   "outputs": [],
   "source": [
    "#Checking for NaN values\n",
    "df.isna().sum()"
   ]
  },
  {
   "cell_type": "code",
   "execution_count": null,
   "metadata": {},
   "outputs": [],
   "source": [
    "#Filling NaN values\n",
    "#for column with string values replace NaN by \"not_available\" and for column with numerical values replace NaN by \"0\"\n",
    "df.fillna({\"duration\": \"not_available\",\n",
    "           \"director_name\": \"not_available\",\n",
    "           \"num_critic_for_reviews\": 0,\n",
    "           \"director_facebook_likes\": 0,\n",
    "           \"color\": \"not_available\",\n",
    "           \"actor_1_name\": \"not_available\",\n",
    "           \"actor_2_name\": \"not_available\",\n",
    "           \"actor_3_name\": \"not_available\",\n",
    "           \"actor_1_facebook_likes\": 0,\n",
    "           \"actor_2_facebook_likes\": 0,\n",
    "           \"actor_3_facebook_likes\": 0,\n",
    "           \"gross\": 0,\n",
    "           \"facenumber_in_poster\": 0,\n",
    "           \"plot_keywords\": \"not_available\",\n",
    "           \"num_user_for_reviews\": 0,\n",
    "           \"budget\": 0,\n",
    "           \"content_rating\": \"not_available\",\n",
    "           \"aspect_ratio\": \"not_available\",\n",
    "           \"title_year\":0,\n",
    "           \"language\":\"not_available\",\n",
    "           \"country\":\"not_available\"\n",
    "           }, inplace=True)\n",
    "\n",
    "print(df.isna().sum())"
   ]
  },
  {
   "cell_type": "markdown",
   "metadata": {},
   "source": [
    "Color"
   ]
  },
  {
   "cell_type": "code",
   "execution_count": null,
   "metadata": {},
   "outputs": [],
   "source": [
    "print(df[\"color\"].value_counts())\n",
    "df[\"color\"].replace({\" Black and White\":\"Black and White\"},inplace=True)"
   ]
  },
  {
   "cell_type": "markdown",
   "metadata": {},
   "source": [
    "Director name"
   ]
  },
  {
   "cell_type": "code",
   "execution_count": null,
   "metadata": {},
   "outputs": [],
   "source": [
    "#Checking for unique value Counts\n",
    "print(df[\"director_name\"].nunique())\n",
    "#Converting to lower case and checking for unique value counts\n",
    "print(df[\"director_name\"].str.lower().str.strip().nunique())"
   ]
  },
  {
   "cell_type": "markdown",
   "metadata": {},
   "source": [
    "Language"
   ]
  },
  {
   "cell_type": "code",
   "execution_count": null,
   "metadata": {},
   "outputs": [],
   "source": [
    "#Checking for unique value Counts\n",
    "print(df[\"language\"].nunique())\n",
    "#Converting to lower case and checking for unique value counts\n",
    "print(df[\"language\"].str.lower().str.strip().nunique())"
   ]
  },
  {
   "cell_type": "markdown",
   "metadata": {},
   "source": [
    "Country "
   ]
  },
  {
   "cell_type": "code",
   "execution_count": null,
   "metadata": {},
   "outputs": [],
   "source": [
    "#Checking for unique value Counts\n",
    "print(df[\"country\"].nunique())\n",
    "#Converting to lower case and checking for unique value counts\n",
    "print(df[\"country\"].str.lower().nunique())"
   ]
  },
  {
   "cell_type": "markdown",
   "metadata": {},
   "source": [
    "Actor names"
   ]
  },
  {
   "cell_type": "code",
   "execution_count": null,
   "metadata": {},
   "outputs": [],
   "source": [
    "#Actor_1\n",
    "#Checking for unique value Counts\n",
    "print(df[\"actor_1_name\"].nunique())\n",
    "#Converting to lower case and checking for unique value counts\n",
    "print(df[\"actor_1_name\"].str.lower().nunique())"
   ]
  },
  {
   "cell_type": "code",
   "execution_count": null,
   "metadata": {},
   "outputs": [],
   "source": [
    "#Actor_2\n",
    "#Checking for unique value Counts\n",
    "print(df[\"actor_2_name\"].nunique())\n",
    "#Converting to lower case and checking for unique value counts\n",
    "print(df[\"actor_2_name\"].str.lower().nunique())\n"
   ]
  },
  {
   "cell_type": "code",
   "execution_count": null,
   "metadata": {},
   "outputs": [],
   "source": [
    "#Actor_3\n",
    "#Checking for unique value Counts\n",
    "print(df[\"actor_3_name\"].nunique())\n",
    "#Converting to lower case and checking for unique value counts\n",
    "print(df[\"actor_3_name\"].str.lower().nunique())"
   ]
  },
  {
   "cell_type": "markdown",
   "metadata": {},
   "source": [
    "Genres"
   ]
  },
  {
   "cell_type": "code",
   "execution_count": null,
   "metadata": {},
   "outputs": [],
   "source": [
    "#Spliiting the values ad creating a seperate column for each genre\n",
    "df['genres']=df['genres'] .str.lower()\n",
    "df['genres'] = df['genres'].str.split('|')"
   ]
  },
  {
   "cell_type": "code",
   "execution_count": null,
   "metadata": {},
   "outputs": [],
   "source": [
    "#Creating a seperate column \n",
    "df = df.join(df['genres'].str.join('|').str.get_dummies())\n",
    "df.head(2)"
   ]
  },
  {
   "cell_type": "markdown",
   "metadata": {},
   "source": [
    "Content Rating"
   ]
  },
  {
   "cell_type": "code",
   "execution_count": null,
   "metadata": {},
   "outputs": [],
   "source": [
    "#content rating\n",
    "print(df[\"content_rating\"].value_counts())\n",
    "#combining the similar values into a unique value\n",
    "df[\"content_rating\"].replace({\"Unrated\":\"Not Rated\",\"not_available\":\"Not Rated\",\"Approved\":\"Passed\"},inplace=True)\n",
    "df[\"content_rating\"].value_counts()"
   ]
  },
  {
   "cell_type": "markdown",
   "metadata": {},
   "source": [
    "Saving the Processed data into\".csv\" format"
   ]
  },
  {
   "cell_type": "code",
   "execution_count": null,
   "metadata": {},
   "outputs": [],
   "source": [
    "#Resetting the index\n",
    "df.reset_index(drop=True)\n",
    "#Saving a new file\n",
    "df.to_csv(\"imdb_cleaned_dataset.csv\",index=False)"
   ]
  }
 ],
 "metadata": {
  "kernelspec": {
   "display_name": "Python 3",
   "language": "python",
   "name": "python3"
  },
  "language_info": {
   "codemirror_mode": {
    "name": "ipython",
    "version": 3
   },
   "file_extension": ".py",
   "mimetype": "text/x-python",
   "name": "python",
   "nbconvert_exporter": "python",
   "pygments_lexer": "ipython3",
   "version": "3.11.4"
  }
 },
 "nbformat": 4,
 "nbformat_minor": 2
}
